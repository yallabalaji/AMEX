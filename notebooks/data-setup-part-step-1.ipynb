{
 "cells": [
  {
   "cell_type": "code",
   "execution_count": 14,
   "id": "aec82a66",
   "metadata": {},
   "outputs": [
    {
     "name": "stdout",
     "output_type": "stream",
     "text": [
      "Note: you may need to restart the kernel to use updated packages.\n"
     ]
    }
   ],
   "source": [
    "%pip install -q -r ../requirements.txt"
   ]
  },
  {
   "cell_type": "code",
   "execution_count": 9,
   "id": "117c043e-5e93-46b3-801c-7bedaa44a798",
   "metadata": {
    "tags": []
   },
   "outputs": [],
   "source": [
    "from dotenv import load_dotenv\n",
    "load_dotenv(dotenv_path=\"/notebooks/stage.env\")\n",
    "\n",
    "import os"
   ]
  },
  {
   "cell_type": "code",
   "execution_count": 16,
   "id": "5ecff1f4",
   "metadata": {},
   "outputs": [],
   "source": [
    "import keyring, os\n",
    "\n",
    "os.environ[\"KAGGLE_USERNAME\"] = keyring.get_password(\"KAGGLE_USERNAME\", \"kaggle_username\")\n",
    "os.environ[\"KAGGLE_KEY\"] = keyring.get_password(\"KAGGLE_KEY\", \"kaggle_key\")"
   ]
  },
  {
   "cell_type": "code",
   "execution_count": 17,
   "id": "f21e9c6c-cd08-4906-9167-9678ce5ec4c6",
   "metadata": {
    "tags": []
   },
   "outputs": [
    {
     "name": "stdout",
     "output_type": "stream",
     "text": [
      "⬇️  Downloading train_data.csv...\n"
     ]
    },
    {
     "name": "stderr",
     "output_type": "stream",
     "text": [
      "6827MB [14:26,  7.88MB/s]                            \n"
     ]
    },
    {
     "name": "stdout",
     "output_type": "stream",
     "text": [
      "✅ Downloaded train_data.csv. Extracting...\n",
      "🧹 Cleaned up train_data.csv.zip\n",
      "⬇️  Downloading train_labels.csv...\n"
     ]
    },
    {
     "name": "stderr",
     "output_type": "stream",
     "text": [
      "17MB [00:03,  4.86MB/s]                        \n"
     ]
    },
    {
     "name": "stdout",
     "output_type": "stream",
     "text": [
      "✅ Downloaded train_labels.csv. Extracting...\n",
      "🧹 Cleaned up train_labels.csv.zip\n",
      "⬇️  Downloading sample_submission.csv...\n"
     ]
    },
    {
     "name": "stderr",
     "output_type": "stream",
     "text": [
      "33MB [00:08,  4.08MB/s]                        \n"
     ]
    },
    {
     "name": "stdout",
     "output_type": "stream",
     "text": [
      "✅ Downloaded sample_submission.csv. Extracting...\n",
      "🧹 Cleaned up sample_submission.csv.zip\n"
     ]
    }
   ],
   "source": [
    "import requests\n",
    "from pathlib import Path\n",
    "from tqdm import tqdm\n",
    "import zipfile\n",
    "import os\n",
    "import json\n",
    "\n",
    "# Where to save data\n",
    "DATA_DIR = Path(\"data\")\n",
    "DATA_DIR.mkdir(exist_ok=True)\n",
    "\n",
    "KAGGLE_USERNAME = os.environ[\"KAGGLE_USERNAME\"]\n",
    "KAGGLE_KEY = os.environ[\"KAGGLE_KEY\"]\n",
    "\n",
    "def download_file(file_name):\n",
    "    url = f\"https://www.kaggle.com/api/v1/competitions/data/download/amex-default-prediction/{file_name}\"\n",
    "    auth = (KAGGLE_USERNAME, KAGGLE_KEY)\n",
    "    headers = {\"User-Agent\": \"Mozilla/5.0\"}\n",
    "    zip_path = DATA_DIR / f\"{file_name}.zip\"\n",
    "\n",
    "    print(f\"⬇️  Downloading {file_name}...\")\n",
    "\n",
    "    with requests.get(url, stream=True, auth=auth, headers=headers) as r:\n",
    "        r.raise_for_status()\n",
    "        total_size = int(r.headers.get(\"content-length\", 0))\n",
    "        with open(zip_path, \"wb\") as f:\n",
    "            for chunk in tqdm(r.iter_content(chunk_size=1024 * 1024),  # 1MB chunks\n",
    "                              total=total_size // (1024 * 1024),\n",
    "                              unit=\"MB\"):\n",
    "                f.write(chunk)\n",
    "\n",
    "    print(f\"✅ Downloaded {file_name}. Extracting...\")\n",
    "\n",
    "    with zipfile.ZipFile(zip_path, 'r') as zip_ref:\n",
    "        zip_ref.extractall(DATA_DIR)\n",
    "\n",
    "    os.remove(zip_path)\n",
    "    print(f\"🧹 Cleaned up {file_name}.zip\")\n",
    "\n",
    "# Files to grab\n",
    "files = [\"train_data.csv\", \"train_labels.csv\", \"sample_submission.csv\"]\n",
    "for f in files:\n",
    "    download_file(f)"
   ]
  }
 ],
 "metadata": {
  "kernelspec": {
   "display_name": "venv",
   "language": "python",
   "name": "python3"
  },
  "language_info": {
   "codemirror_mode": {
    "name": "ipython",
    "version": 3
   },
   "file_extension": ".py",
   "mimetype": "text/x-python",
   "name": "python",
   "nbconvert_exporter": "python",
   "pygments_lexer": "ipython3",
   "version": "3.14.0"
  }
 },
 "nbformat": 4,
 "nbformat_minor": 5
}
