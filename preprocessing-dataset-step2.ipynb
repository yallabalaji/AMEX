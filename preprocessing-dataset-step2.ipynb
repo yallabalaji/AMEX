{
 "cells": [
  {
   "cell_type": "code",
   "execution_count": 2,
   "id": "5f8ad845-7734-4e19-ae13-f3991ed02f2a",
   "metadata": {
    "tags": []
   },
   "outputs": [
    {
     "name": "stdout",
     "output_type": "stream",
     "text": [
      "\u001b[33mWARNING: Running pip as the 'root' user can result in broken permissions and conflicting behaviour with the system package manager. It is recommended to use a virtual environment instead: https://pip.pypa.io/warnings/venv\u001b[0m\u001b[33m\n",
      "\u001b[0mNote: you may need to restart the kernel to use updated packages.\n"
     ]
    }
   ],
   "source": [
    "pip install -q pandas"
   ]
  },
  {
   "cell_type": "code",
   "execution_count": 3,
   "id": "e764a1e3-ae77-4408-ac40-2fce4148f426",
   "metadata": {
    "tags": []
   },
   "outputs": [
    {
     "name": "stdout",
     "output_type": "stream",
     "text": [
      "\u001b[33mWARNING: Running pip as the 'root' user can result in broken permissions and conflicting behaviour with the system package manager. It is recommended to use a virtual environment instead: https://pip.pypa.io/warnings/venv\u001b[0m\u001b[33m\n",
      "\u001b[0mNote: you may need to restart the kernel to use updated packages.\n"
     ]
    }
   ],
   "source": [
    "pip install -q dask[complete]"
   ]
  },
  {
   "cell_type": "code",
   "execution_count": 4,
   "id": "29b48b18-c1a7-450c-b535-96401744f9ac",
   "metadata": {
    "tags": []
   },
   "outputs": [
    {
     "name": "stdout",
     "output_type": "stream",
     "text": [
      "\u001b[33mWARNING: Running pip as the 'root' user can result in broken permissions and conflicting behaviour with the system package manager. It is recommended to use a virtual environment instead: https://pip.pypa.io/warnings/venv\u001b[0m\u001b[33m\n",
      "\u001b[0m"
     ]
    }
   ],
   "source": [
    "!pip install -q humanize  # Run once // for get sizes of each object/"
   ]
  },
  {
   "cell_type": "code",
   "execution_count": 5,
   "id": "0d21db9e-8733-4542-b1d4-82f9ae61a3bd",
   "metadata": {
    "tags": []
   },
   "outputs": [
    {
     "name": "stdout",
     "output_type": "stream",
     "text": [
      "\u001b[33mWARNING: Running pip as the 'root' user can result in broken permissions and conflicting behaviour with the system package manager. It is recommended to use a virtual environment instead: https://pip.pypa.io/warnings/venv\u001b[0m\u001b[33m\n",
      "\u001b[0mNote: you may need to restart the kernel to use updated packages.\n"
     ]
    }
   ],
   "source": [
    "pip install -q numpy"
   ]
  },
  {
   "cell_type": "code",
   "execution_count": 6,
   "id": "ac40bf34-67e0-4d39-acc0-b5616ef16ce5",
   "metadata": {
    "tags": []
   },
   "outputs": [],
   "source": [
    "import numpy as np"
   ]
  },
  {
   "cell_type": "code",
   "execution_count": 7,
   "id": "3abd5c02-a699-49db-b630-e9baa69268e1",
   "metadata": {
    "tags": []
   },
   "outputs": [],
   "source": [
    "train_data_path = '/notebooks/data/train_data.csv';"
   ]
  },
  {
   "cell_type": "code",
   "execution_count": 8,
   "id": "77dd4725-cb4c-4945-a516-3ca9927efa6f",
   "metadata": {
    "tags": []
   },
   "outputs": [],
   "source": [
    "import sys\n",
    "import humanize\n",
    "\n",
    "def print_variable_sizes(top_n=None, scope=None):\n",
    "    \"\"\"\n",
    "    Prints all variables in memory (default: globals()), sorted by size (largest first).\n",
    "    \n",
    "    Args:\n",
    "        top_n (int): Optional. Show only top N variables.\n",
    "        scope (dict): Optional. Dictionary to inspect (e.g., locals() or globals()).\n",
    "    \"\"\"\n",
    "    if scope is None:\n",
    "        scope = globals()\n",
    "\n",
    "    var_list = []\n",
    "    for k, v in scope.items():\n",
    "        if k.startswith('_'):\n",
    "            continue  # skip internal vars\n",
    "        try:\n",
    "            size = sys.getsizeof(v)\n",
    "            var_list.append((k, type(v).__name__, size, humanize.naturalsize(size)))\n",
    "        except Exception:\n",
    "            continue\n",
    "\n",
    "    var_list.sort(key=lambda x: x[2], reverse=True)\n",
    "\n",
    "    print(f\"{'Variable':<20} {'Type':<20} {'Size':<15}\")\n",
    "    print(\"-\" * 55)\n",
    "    for i, (name, vtype, size, size_str) in enumerate(var_list):\n",
    "        if top_n is not None and i >= top_n:\n",
    "            break\n",
    "        print(f\"{name:<20} {vtype:<20} {size_str:<15}\")"
   ]
  },
  {
   "cell_type": "code",
   "execution_count": 9,
   "id": "026d2cf8-dbc8-4b05-a4e5-a3cbb7f5d6cd",
   "metadata": {
    "tags": []
   },
   "outputs": [],
   "source": [
    "import pandas as pd"
   ]
  },
  {
   "cell_type": "code",
   "execution_count": 10,
   "id": "d7ab3bf9-2c29-4eed-9c56-cb85b2c49c46",
   "metadata": {
    "tags": []
   },
   "outputs": [],
   "source": [
    "sample = pd.read_csv('/notebooks/data/train_data.csv',  nrows=100_000)"
   ]
  },
  {
   "cell_type": "code",
   "execution_count": 11,
   "id": "c6719994-1eb5-42f7-9f6a-cc9ddc396580",
   "metadata": {
    "tags": []
   },
   "outputs": [
    {
     "name": "stdout",
     "output_type": "stream",
     "text": [
      "<class 'pandas.core.frame.DataFrame'>\n",
      "RangeIndex: 100000 entries, 0 to 99999\n",
      "Columns: 190 entries, customer_ID to D_145\n",
      "dtypes: float64(185), int64(1), object(4)\n",
      "memory usage: 145.0+ MB\n",
      "None\n"
     ]
    }
   ],
   "source": [
    "print(sample.info())"
   ]
  },
  {
   "cell_type": "code",
   "execution_count": 12,
   "id": "a2f7ee7c-6052-426f-bb19-1ad92eaa2c87",
   "metadata": {
    "tags": []
   },
   "outputs": [],
   "source": [
    "int_columns = sample.select_dtypes(include=\"int64\").columns\n",
    "float_columns = sample.select_dtypes(include=\"float64\").columns\n",
    "object_cols = sample.select_dtypes(include=\"object\").columns"
   ]
  },
  {
   "cell_type": "code",
   "execution_count": 13,
   "id": "d3f96cc1-2c3f-4ae4-96fc-1a1fdd4526c0",
   "metadata": {
    "tags": []
   },
   "outputs": [
    {
     "name": "stdout",
     "output_type": "stream",
     "text": [
      "Variable             Type                 Size           \n",
      "-------------------------------------------------------\n",
      "sample               DataFrame            179.2 MB       \n",
      "float_columns        Index                11.3 kB        \n",
      "object_cols          Index                282 Bytes      \n",
      "In                   list                 184 Bytes      \n",
      "open                 function             152 Bytes      \n",
      "print_variable_sizes function             152 Bytes      \n",
      "int_columns          Index                93 Bytes       \n",
      "train_data_path      str                  79 Bytes       \n",
      "pd                   module               72 Bytes       \n",
      "np                   module               72 Bytes       \n",
      "sys                  module               72 Bytes       \n",
      "humanize             module               72 Bytes       \n",
      "Out                  dict                 64 Bytes       \n",
      "get_ipython          method               64 Bytes       \n",
      "unique_vals          dict                 64 Bytes       \n",
      "exit                 ZMQExitAutocall      56 Bytes       \n",
      "quit                 ZMQExitAutocall      56 Bytes       \n",
      "chunk_size           int                  28 Bytes       \n"
     ]
    }
   ],
   "source": [
    "print_variable_sizes()"
   ]
  },
  {
   "cell_type": "code",
   "execution_count": 14,
   "id": "3c9a91c6-8189-4593-94cf-eacf6f8c9e7a",
   "metadata": {
    "tags": []
   },
   "outputs": [
    {
     "data": {
      "text/plain": [
       "Index(['customer_ID', 'S_2', 'D_63', 'D_64'], dtype='object')"
      ]
     },
     "execution_count": 14,
     "metadata": {},
     "output_type": "execute_result"
    }
   ],
   "source": [
    "object_cols"
   ]
  },
  {
   "cell_type": "code",
   "execution_count": 15,
   "id": "59146f1f-6541-4405-bd8b-770f57542a62",
   "metadata": {
    "tags": []
   },
   "outputs": [
    {
     "data": {
      "text/plain": [
       "array(['CR', 'CO', 'CL', 'XZ', 'XM', 'XL'], dtype=object)"
      ]
     },
     "execution_count": 15,
     "metadata": {},
     "output_type": "execute_result"
    }
   ],
   "source": [
    "sample['D_63'].unique()"
   ]
  },
  {
   "cell_type": "code",
   "execution_count": 16,
   "id": "d303ab04-0c92-4048-b871-44a5632daf21",
   "metadata": {
    "tags": []
   },
   "outputs": [
    {
     "name": "stdout",
     "output_type": "stream",
     "text": [
      "Unique D_63 Categories (excluding NaN): ['CL', 'CO', 'CR', 'XL', 'XM', 'XZ']\n",
      "D_63 Category Counts:\n",
      "  CO: 4119621\n",
      "  CR: 930133\n",
      "  CL: 438390\n",
      "  XZ: 25786\n",
      "  XM: 10556\n",
      "  XL: 6965\n",
      "  [MISSING]: 0\n",
      "\n",
      "Unique D_64 Categories (excluding NaN): ['-1', 'O', 'R', 'U']\n",
      "D_64 Category Counts:\n",
      "  O: 2913244\n",
      "  U: 1523448\n",
      "  R: 840112\n",
      "  [MISSING]: 217442\n",
      "  -1: 37205\n"
     ]
    }
   ],
   "source": [
    "import pandas as pd\n",
    "from collections import Counter\n",
    "\n",
    "# Initialize sets and counters\n",
    "unique_d63 = set()\n",
    "unique_d64 = set()\n",
    "count_d63 = Counter()\n",
    "count_d64 = Counter()\n",
    "missing_d63 = 0\n",
    "missing_d64 = 0\n",
    "\n",
    "# Read in chunks\n",
    "for chunk in pd.read_csv('/notebooks/data/train_data.csv', usecols=['D_63', 'D_64'], chunksize=100000):\n",
    "    d63_series = chunk['D_63']\n",
    "    d64_series = chunk['D_64']\n",
    "    \n",
    "    # Count missing values\n",
    "    missing_d63 += d63_series.isna().sum()\n",
    "    missing_d64 += d64_series.isna().sum()\n",
    "    \n",
    "    # Drop NaNs for unique value scan\n",
    "    d63_vals = d63_series.dropna()\n",
    "    d64_vals = d64_series.dropna()\n",
    "    \n",
    "    unique_d63.update(d63_vals.unique())\n",
    "    unique_d64.update(d64_vals.unique())\n",
    "    \n",
    "    count_d63.update(d63_vals)\n",
    "    count_d64.update(d64_vals)\n",
    "\n",
    "# Add a special category for missing if desired\n",
    "count_d63['[MISSING]'] = missing_d63\n",
    "count_d64['[MISSING]'] = missing_d64\n",
    "\n",
    "# Show results\n",
    "print(\"Unique D_63 Categories (excluding NaN):\", sorted(unique_d63))\n",
    "print(\"D_63 Category Counts:\")\n",
    "for k, v in count_d63.most_common():\n",
    "    print(f\"  {k}: {v}\")\n",
    "\n",
    "print(\"\\nUnique D_64 Categories (excluding NaN):\", sorted(unique_d64))\n",
    "print(\"D_64 Category Counts:\")\n",
    "for k, v in count_d64.most_common():\n",
    "    print(f\"  {k}: {v}\")"
   ]
  },
  {
   "cell_type": "markdown",
   "id": "47e2aef3-5785-43d8-8712-468d1c6d4ff2",
   "metadata": {},
   "source": []
  },
  {
   "cell_type": "markdown",
   "id": "365b1f40-acbb-472e-a18e-e083f75258a1",
   "metadata": {},
   "source": [
    "Lets build solution for handling int and float features , for this will reduce the size like int 64 to int 16 and float 64 to float 32"
   ]
  },
  {
   "cell_type": "code",
   "execution_count": 17,
   "id": "37354797-8d7a-453c-b8eb-f2eab51ad059",
   "metadata": {
    "tags": []
   },
   "outputs": [
    {
     "data": {
      "text/plain": [
       "Index(['B_31'], dtype='object')"
      ]
     },
     "execution_count": 17,
     "metadata": {},
     "output_type": "execute_result"
    }
   ],
   "source": [
    "int_columns"
   ]
  },
  {
   "cell_type": "code",
   "execution_count": 18,
   "id": "5951b27f-5af0-4aea-9e40-a49067a4438d",
   "metadata": {
    "tags": []
   },
   "outputs": [
    {
     "data": {
      "text/plain": [
       "Index(['P_2', 'D_39', 'B_1', 'B_2', 'R_1', 'S_3', 'D_41', 'B_3', 'D_42',\n",
       "       'D_43',\n",
       "       ...\n",
       "       'D_136', 'D_137', 'D_138', 'D_139', 'D_140', 'D_141', 'D_142', 'D_143',\n",
       "       'D_144', 'D_145'],\n",
       "      dtype='object', length=185)"
      ]
     },
     "execution_count": 18,
     "metadata": {},
     "output_type": "execute_result"
    }
   ],
   "source": [
    "float_columns"
   ]
  },
  {
   "cell_type": "code",
   "execution_count": 19,
   "id": "0ac48229-e8e1-44ff-b7e6-eda81b72a2f1",
   "metadata": {
    "tags": []
   },
   "outputs": [],
   "source": [
    "int_min = {}\n",
    "int_max = {}\n",
    "float_min = {}\n",
    "float_max = {}"
   ]
  },
  {
   "cell_type": "code",
   "execution_count": 20,
   "id": "f052017e-02d3-479d-9b7e-a5a61981299f",
   "metadata": {
    "tags": []
   },
   "outputs": [],
   "source": [
    "chunk_size = 100_000\n",
    "\n",
    "for chunk in pd.read_csv('/notebooks/data/train_data.csv', chunksize=chunk_size):\n",
    "\n",
    "    # Handle int columns\n",
    "    for col in int_columns:\n",
    "        current_min = chunk[col].min()\n",
    "        current_max = chunk[col].max()\n",
    "\n",
    "        int_min[col] = min(int_min.get(col, current_min), current_min)\n",
    "        int_max[col] = max(int_max.get(col, current_max), current_max)\n",
    "\n",
    "    # Handle float columns\n",
    "    for col in float_columns:\n",
    "        current_min = chunk[col].min()\n",
    "        current_max = chunk[col].max()\n",
    "\n",
    "        float_min[col] = min(float_min.get(col, current_min), current_min)\n",
    "        float_max[col] = max(float_max.get(col, current_max), current_max)"
   ]
  },
  {
   "cell_type": "code",
   "execution_count": 21,
   "id": "ccde369a-17fd-4c42-933f-b27dd11ded09",
   "metadata": {
    "tags": []
   },
   "outputs": [
    {
     "name": "stdout",
     "output_type": "stream",
     "text": [
      "=== INT COLUMNS ===\n",
      "B_31 → min: 0, max: 1\n",
      "\n",
      "=== FLOAT COLUMNS ===\n",
      "P_2 → min: -0.4589548331054999, max: 1.009999947398878\n",
      "D_39 → min: 5.026190099677308e-09, max: 5.389619396242631\n",
      "B_1 → min: -7.588799098308654, max: 1.3240604020685645\n",
      "B_2 → min: 9.192279870617882e-09, max: 1.009999999641531\n",
      "R_1 → min: 1.5342230152981531e-09, max: 3.256284433154198\n",
      "S_3 → min: -0.6271320453080809, max: 5.482888258321006\n",
      "D_41 → min: 5.566545069335403e-10, max: 8.988807033179892\n",
      "B_3 → min: 6.2852931681511845e-09, max: 1.6252622436744049\n",
      "D_42 → min: -0.0004543302584009, max: 4.191118756428802\n",
      "D_43 → min: 1.1545498247667041e-07, max: 10.111619400622503\n",
      "D_44 → min: 5.153088222797917e-10, max: 5.634723661789413\n",
      "B_4 → min: 3.0993319777294914e-09, max: 19.803285707969977\n",
      "D_45 → min: 1.5632410106380945e-08, max: 1.6100019829291632\n",
      "B_5 → min: 2.804821708224381e-11, max: 144.2070226881703\n",
      "R_2 → min: 8.26574798606927e-10, max: 1.0099999294503634\n",
      "D_46 → min: -17.28934305264782, max: 16.3199007299845\n",
      "D_47 → min: -0.0266216416337296, max: 1.643096220655841\n",
      "D_48 → min: -0.0096152769201819, max: 8.97142521306228\n",
      "D_49 → min: 5.021298330409873e-07, max: 45.84011802819581\n",
      "B_6 → min: -0.0051781684390964, max: 1214.516925566757\n",
      "B_7 → min: -2.652748476905915, max: 1.252750103111754\n",
      "B_8 → min: 1.1537036029851677e-08, max: 1.0190789399020022\n",
      "D_50 → min: -306.487066636102, max: 244.0426689670196\n",
      "D_51 → min: 3.5514975182948656e-10, max: 2.676605889987304\n",
      "B_9 → min: 6.726069862184048e-09, max: 27.4248585069128\n",
      "R_3 → min: 2.238321811232069e-09, max: 11.602601280229234\n",
      "D_52 → min: -0.0070831094650515, max: 1.0099999539921447\n",
      "P_3 → min: -1.5196897383880732, max: 2.428050913879042\n",
      "B_10 → min: -0.0029584814025298, max: 4097.440729316883\n",
      "D_53 → min: 5.678128922159688e-08, max: 7.901938888715765\n",
      "S_5 → min: 8.168134859598552e-09, max: 206.8752804763748\n",
      "B_11 → min: 2.0178136377335682e-08, max: 1.9703747821721005\n",
      "S_6 → min: 2.5414648688557127e-09, max: 1.009999992405927\n",
      "D_54 → min: -0.0020057665000509, max: 1.009999999854298\n",
      "R_4 → min: 4.0246849408731566e-10, max: 1.0099999574074332\n",
      "S_7 → min: -0.4701317509602911, max: 3.9482712544168175\n",
      "B_12 → min: 3.3436237443229546e-08, max: 420.7489933517321\n",
      "S_8 → min: 6.187214479647096e-09, max: 1.2314128602139396\n",
      "D_55 → min: 2.3532179468377386e-08, max: 2.7677589048751146\n",
      "D_56 → min: -0.0170891463735931, max: 10.956514240669138\n",
      "B_13 → min: 1.9058504148183887e-08, max: 276.17782447161534\n",
      "R_5 → min: 1.1545892786291034e-09, max: 35.0045151942227\n",
      "D_58 → min: 4.96894537627135e-09, max: 1.2619450801585763\n",
      "S_9 → min: 2.823498086068632e-07, max: 2.839634759419279\n",
      "B_14 → min: -8.469853768330966, max: 55.01151584547242\n",
      "D_59 → min: -0.1024300594959483, max: 2.1533324930182345\n",
      "D_60 → min: 5.905030456831993e-09, max: 1.0099999981824832\n",
      "D_61 → min: -0.0092590178784995, max: 868.5154479080139\n",
      "B_15 → min: -10.008048525422836, max: 65.03742749193326\n",
      "S_11 → min: -0.1999987356407281, max: 3.8014322413626966\n",
      "D_62 → min: -0.0028221346670395, max: 11.100952972547145\n",
      "D_65 → min: 3.53940417308074e-09, max: 385.9016380179954\n",
      "B_16 → min: 7.813820201985064e-10, max: 1.009999996084322\n",
      "B_17 → min: 3.774554910407346e-08, max: 1.0099999913726403\n",
      "B_18 → min: 5.8912217352213873e-08, max: 1.009999998882574\n",
      "B_19 → min: 1.573037570201663e-09, max: 1.0099999902761216\n",
      "D_66 → min: 0.0, max: 1.0\n",
      "B_20 → min: 1.218623094656479e-09, max: 1.0099999893849416\n",
      "D_68 → min: 0.0, max: 6.0\n",
      "S_12 → min: -0.4041089608718481, max: 175.33141978722094\n",
      "R_6 → min: 4.6506810291724314e-10, max: 14.44820127050934\n",
      "S_13 → min: 3.6556575733204245e-09, max: 1.0099999697700697\n",
      "B_21 → min: 4.4267525967089935e-09, max: 288.2942875761814\n",
      "D_69 → min: 6.051601151302322e-09, max: 13000.909349826265\n",
      "B_22 → min: 2.056147848650269e-09, max: 3.5077588047431028\n",
      "D_70 → min: 6.623321358034671e-10, max: 7.004608268552563\n",
      "D_71 → min: 3.026939331407519e-09, max: 67.03230804932387\n",
      "D_72 → min: 3.3814336330983957e-10, max: 3.009999890648296\n",
      "S_15 → min: -0.2999997869040892, max: 5.308959433760895\n",
      "B_23 → min: 4.3529628566130194e-08, max: 1.6930979992121915\n",
      "D_73 → min: -0.0452614935570035, max: 3.853646942170173\n",
      "P_4 → min: 2.668066003685965e-09, max: 1.2693903764285452\n",
      "D_74 → min: 2.137169229365909e-09, max: 4.5090854790484896\n",
      "D_75 → min: 1.1208106220905731e-09, max: 4.275118160424186\n",
      "D_76 → min: 3.1284823169608346e-07, max: 15.13261459533479\n",
      "B_24 → min: 1.820938899665947e-09, max: 46.60664741632751\n",
      "R_7 → min: 8.676290463860426e-10, max: 449.9888854042718\n",
      "D_77 → min: 2.6787140213757614e-08, max: 10.229169660158522\n",
      "B_25 → min: -11.253577374985708, max: 15.699758371405638\n",
      "B_26 → min: 1.691720986629619e-09, max: 1499.2203098823074\n",
      "D_78 → min: 6.210012193363923e-10, max: 16.00864434848962\n",
      "D_79 → min: 1.4380668433844334e-10, max: 18.00687416215985\n",
      "R_8 → min: 1.7380910344311215e-09, max: 38.00807883554096\n",
      "R_9 → min: 3.121485060242346e-07, max: 1.509999456356119\n",
      "S_16 → min: 5.083304648323406e-09, max: 231.75894716058667\n",
      "D_80 → min: 1.890424892181386e-09, max: 8.009780011849728\n",
      "R_10 → min: 2.2332498161858896e-09, max: 21.003672412683155\n",
      "R_11 → min: 8.363790371390679e-10, max: 12.502596050582229\n",
      "B_27 → min: 1.0441590292398215e-09, max: 1.0053700909808778\n",
      "D_81 → min: 5.759928967119521e-10, max: 8.00999272648431\n",
      "D_82 → min: 3.8131993883583353e-08, max: 3.008526474547693\n",
      "S_17 → min: 1.0198057098786962e-09, max: 4.049070266700224\n",
      "R_12 → min: -0.0917934736522874, max: 1.0099999997931357\n",
      "B_28 → min: -2.1602069973983548e-05, max: 25.533371939885043\n",
      "R_13 → min: 2.894742647807646e-09, max: 1.0053213737518945\n",
      "D_83 → min: 5.042657013065721e-09, max: 38.00753095660378\n",
      "R_14 → min: 6.702420429771647e-10, max: 4837.304861010084\n",
      "R_15 → min: 3.588444008606473e-10, max: 1.0099999633226306\n",
      "D_84 → min: 1.1903791830025767e-09, max: 29.005588414149454\n",
      "R_16 → min: 5.6605600540216e-10, max: 18.50013083799228\n",
      "B_29 → min: 2.1463593442572212e-08, max: 12.023967787593664\n",
      "B_30 → min: 0.0, max: 2.0\n",
      "S_18 → min: 4.075928594637901e-11, max: 1.0099999449287145\n",
      "D_86 → min: 7.226233278423422e-11, max: 1.009999972996415\n",
      "D_87 → min: 1.0, max: 1.0\n",
      "R_17 → min: 1.0661143834411746e-09, max: 1.0015279405762851\n",
      "R_18 → min: 2.1702871244588806e-09, max: 1.000777320630167\n",
      "D_88 → min: -3.196266383615005e-05, max: 2.669250093434481\n",
      "S_19 → min: 3.1563902669340396e-09, max: 1.0047294856148157\n",
      "R_19 → min: 1.954925309410882e-09, max: 1.0099998779247248\n",
      "B_32 → min: 2.0981418269450103e-09, max: 1.0099999980877084\n",
      "S_20 → min: 6.887991221837809e-10, max: 1.0099995775256172\n",
      "R_20 → min: 4.972086038446122e-09, max: 45.006028224504064\n",
      "R_21 → min: 3.6468720598925587e-09, max: 1.0099999400231243\n",
      "B_33 → min: 2.1471889044555326e-10, max: 1.0099999926973888\n",
      "D_89 → min: 2.0142997048111512e-10, max: 1.0099964484531143\n",
      "R_22 → min: 9.57614627594694e-10, max: 1.0099998432591013\n",
      "R_23 → min: 8.443200483210232e-10, max: 1.0099853149541451\n",
      "D_91 → min: 1.1176824277203679e-09, max: 3.0097374296653863\n",
      "D_92 → min: 2.0883781381986204e-09, max: 2.009999865039541\n",
      "D_93 → min: 6.382818610317642e-09, max: 1.0099999683795924\n",
      "D_94 → min: 9.098536091212139e-10, max: 1.009999863410338\n",
      "R_24 → min: 6.57026173467301e-10, max: 1.0099999468648522\n",
      "R_25 → min: 4.6405618236988746e-11, max: 1.009999694512149\n",
      "D_96 → min: 2.6778247841363624e-10, max: 1.0099997759615107\n",
      "S_22 → min: -91.99815644228173, max: 1.032726655571362\n",
      "S_23 → min: -206.0854662877428, max: 885.3349224399432\n",
      "S_24 → min: -90.48382192636736, max: 1.05563794214751\n",
      "S_25 → min: -2.453450577334403, max: 4.052047833364775\n",
      "S_26 → min: 5.137101491969887e-09, max: 136.6659908858774\n",
      "D_102 → min: 9.620586682856923e-10, max: 1.089998124936563\n",
      "D_103 → min: 1.025805731469376e-09, max: 1.0099999979183536\n",
      "D_104 → min: 2.869107660341541e-09, max: 1.302976101367775\n",
      "D_105 → min: -0.0264048177627183, max: 5.631732239390759\n",
      "D_106 → min: 7.532992289949194e-08, max: 626.829194745863\n",
      "D_107 → min: 6.403922221398517e-09, max: 7.009004013330228\n",
      "B_36 → min: 1.160855576110009e-09, max: 1.0023400294860374\n",
      "B_37 → min: -7.604273054959358, max: 1.3278119274068874\n",
      "R_26 → min: 2.9707001384382545e-08, max: 9.509053396045594\n",
      "R_27 → min: -0.0257109932455966, max: 1.0099999997379483\n",
      "B_38 → min: 1.0, max: 7.0\n",
      "D_108 → min: 3.917639360595526e-07, max: 9.008855929641069\n",
      "D_109 → min: 3.1195673266815046e-10, max: 1.0099995090554998\n",
      "D_110 → min: -0.0237499422707655, max: 1.0099996563514988\n",
      "D_111 → min: 3.091679908044931e-06, max: 1.0099995086638465\n",
      "B_39 → min: -0.9793140255532508, max: 2.0608986049342155\n",
      "D_112 → min: 4.3446399642377296e-08, max: 1.009999999415333\n",
      "B_40 → min: 1.2012753594081717e-08, max: 5755.075986356201\n",
      "S_27 → min: 4.417077348328745e-10, max: 5.456268982023772\n",
      "D_113 → min: 1.463473564555784e-11, max: 25.007557964674724\n",
      "D_114 → min: 0.0, max: 1.0\n",
      "D_115 → min: 2.228053573816169e-07, max: 1.9995397891296307\n",
      "D_116 → min: 0.0, max: 1.0\n",
      "D_117 → min: -1.0, max: 6.0\n",
      "D_118 → min: 2.5519062821777186e-08, max: 1.9709074899577808\n",
      "D_119 → min: 7.076708925080057e-08, max: 1.9770066990806103\n",
      "D_120 → min: 0.0, max: 1.0\n",
      "D_121 → min: -0.0320754701614068, max: 1.7911148155352958\n",
      "D_122 → min: 4.0330947662647896e-08, max: 2.009276229032558\n",
      "D_123 → min: 8.57864307368672e-10, max: 104.00615868344808\n",
      "D_124 → min: -0.0454543793091853, max: 9.094334743722644\n",
      "D_125 → min: 4.410463673165665e-09, max: 14.008477392892544\n",
      "D_126 → min: -1.0, max: 1.0\n",
      "D_127 → min: 1.006008072401698e-09, max: 1.0099999960157997\n",
      "D_128 → min: 3.235348691177364e-09, max: 1.0234716631646796\n",
      "D_129 → min: 2.42287579999001e-10, max: 1.0099999971771794\n",
      "B_41 → min: 2.030712941136769e-09, max: 22.004879042044784\n",
      "B_42 → min: 3.108574445339449e-06, max: 9.05183699270306\n",
      "D_130 → min: 6.097073512734142e-11, max: 1.0280444096044516\n",
      "D_131 → min: 5.173169237426834e-10, max: 1.4916238249969112\n",
      "D_132 → min: -0.0151019866772518, max: 6.039005598187905\n",
      "D_133 → min: 6.380581907272642e-10, max: 1.5099995456902016\n",
      "R_28 → min: 1.0979224740470524e-09, max: 1.0099956346812466\n",
      "D_134 → min: -0.0124442006641261, max: 1.0099998439935904\n",
      "D_135 → min: 5.0083038493076174e-08, max: 1.0099986146572169\n",
      "D_136 → min: 6.31677341755843e-08, max: 1.7599103045031437\n",
      "D_137 → min: 1.0787865332151373e-08, max: 1.009997646372751\n",
      "D_138 → min: 3.3079232127919414e-08, max: 3.0053825226360766\n",
      "D_139 → min: 3.7673473007870937e-10, max: 1.0099999942934916\n",
      "D_140 → min: 3.7250732820570675e-09, max: 1.009999985316682\n",
      "D_141 → min: 1.650099723526921e-10, max: 1.339910388202192\n",
      "D_142 → min: -0.0145393397907504, max: 2.2293682152868834\n",
      "D_143 → min: 5.5496921291808834e-09, max: 1.00999999917923\n",
      "D_144 → min: 2.5009905724182604e-09, max: 1.3433309550075665\n",
      "D_145 → min: 1.226024014533422e-09, max: 4.82762988488277\n"
     ]
    }
   ],
   "source": [
    "print(\"=== INT COLUMNS ===\")\n",
    "for col in int_columns:\n",
    "    print(f\"{col} → min: {int_min[col]}, max: {int_max[col]}\")\n",
    "\n",
    "print(\"\\n=== FLOAT COLUMNS ===\")\n",
    "for col in float_columns:\n",
    "    print(f\"{col} → min: {float_min[col]}, max: {float_max[col]}\")"
   ]
  },
  {
   "cell_type": "code",
   "execution_count": 22,
   "id": "3aeb42d7-6229-47c5-be62-0ed56c589d1b",
   "metadata": {
    "tags": []
   },
   "outputs": [
    {
     "name": "stdout",
     "output_type": "stream",
     "text": [
      "=== FLOAT COLUMN TYPE RECOMMENDATIONS ===\n",
      "P_2: min=-0.4589548331054999, max=1.009999947398878 → recommend: float32\n",
      "D_39: min=5.026190099677308e-09, max=5.389619396242631 → recommend: float32\n",
      "B_1: min=-7.588799098308654, max=1.3240604020685645 → recommend: float32\n",
      "B_2: min=9.192279870617882e-09, max=1.009999999641531 → recommend: float32\n",
      "R_1: min=1.5342230152981531e-09, max=3.256284433154198 → recommend: float32\n",
      "S_3: min=-0.6271320453080809, max=5.482888258321006 → recommend: float32\n",
      "D_41: min=5.566545069335403e-10, max=8.988807033179892 → recommend: float32\n",
      "B_3: min=6.2852931681511845e-09, max=1.6252622436744049 → recommend: float32\n",
      "D_42: min=-0.0004543302584009, max=4.191118756428802 → recommend: float32\n",
      "D_43: min=1.1545498247667041e-07, max=10.111619400622503 → recommend: float32\n",
      "D_44: min=5.153088222797917e-10, max=5.634723661789413 → recommend: float32\n",
      "B_4: min=3.0993319777294914e-09, max=19.803285707969977 → recommend: float32\n",
      "D_45: min=1.5632410106380945e-08, max=1.6100019829291632 → recommend: float32\n",
      "B_5: min=2.804821708224381e-11, max=144.2070226881703 → recommend: float32\n",
      "R_2: min=8.26574798606927e-10, max=1.0099999294503634 → recommend: float32\n",
      "D_46: min=-17.28934305264782, max=16.3199007299845 → recommend: float32\n",
      "D_47: min=-0.0266216416337296, max=1.643096220655841 → recommend: float32\n",
      "D_48: min=-0.0096152769201819, max=8.97142521306228 → recommend: float32\n",
      "D_49: min=5.021298330409873e-07, max=45.84011802819581 → recommend: float32\n",
      "B_6: min=-0.0051781684390964, max=1214.516925566757 → recommend: float32\n",
      "B_7: min=-2.652748476905915, max=1.252750103111754 → recommend: float32\n",
      "B_8: min=1.1537036029851677e-08, max=1.0190789399020022 → recommend: float32\n",
      "D_50: min=-306.487066636102, max=244.0426689670196 → recommend: float32\n",
      "D_51: min=3.5514975182948656e-10, max=2.676605889987304 → recommend: float32\n",
      "B_9: min=6.726069862184048e-09, max=27.4248585069128 → recommend: float32\n",
      "R_3: min=2.238321811232069e-09, max=11.602601280229234 → recommend: float32\n",
      "D_52: min=-0.0070831094650515, max=1.0099999539921447 → recommend: float32\n",
      "P_3: min=-1.5196897383880732, max=2.428050913879042 → recommend: float32\n",
      "B_10: min=-0.0029584814025298, max=4097.440729316883 → recommend: float32\n",
      "D_53: min=5.678128922159688e-08, max=7.901938888715765 → recommend: float32\n",
      "S_5: min=8.168134859598552e-09, max=206.8752804763748 → recommend: float32\n",
      "B_11: min=2.0178136377335682e-08, max=1.9703747821721005 → recommend: float32\n",
      "S_6: min=2.5414648688557127e-09, max=1.009999992405927 → recommend: float32\n",
      "D_54: min=-0.0020057665000509, max=1.009999999854298 → recommend: float32\n",
      "R_4: min=4.0246849408731566e-10, max=1.0099999574074332 → recommend: float32\n",
      "S_7: min=-0.4701317509602911, max=3.9482712544168175 → recommend: float32\n",
      "B_12: min=3.3436237443229546e-08, max=420.7489933517321 → recommend: float32\n",
      "S_8: min=6.187214479647096e-09, max=1.2314128602139396 → recommend: float32\n",
      "D_55: min=2.3532179468377386e-08, max=2.7677589048751146 → recommend: float32\n",
      "D_56: min=-0.0170891463735931, max=10.956514240669138 → recommend: float32\n",
      "B_13: min=1.9058504148183887e-08, max=276.17782447161534 → recommend: float32\n",
      "R_5: min=1.1545892786291034e-09, max=35.0045151942227 → recommend: float32\n",
      "D_58: min=4.96894537627135e-09, max=1.2619450801585763 → recommend: float32\n",
      "S_9: min=2.823498086068632e-07, max=2.839634759419279 → recommend: float32\n",
      "B_14: min=-8.469853768330966, max=55.01151584547242 → recommend: float32\n",
      "D_59: min=-0.1024300594959483, max=2.1533324930182345 → recommend: float32\n",
      "D_60: min=5.905030456831993e-09, max=1.0099999981824832 → recommend: float32\n",
      "D_61: min=-0.0092590178784995, max=868.5154479080139 → recommend: float32\n",
      "B_15: min=-10.008048525422836, max=65.03742749193326 → recommend: float32\n",
      "S_11: min=-0.1999987356407281, max=3.8014322413626966 → recommend: float32\n",
      "D_62: min=-0.0028221346670395, max=11.100952972547145 → recommend: float32\n",
      "D_65: min=3.53940417308074e-09, max=385.9016380179954 → recommend: float32\n",
      "B_16: min=7.813820201985064e-10, max=1.009999996084322 → recommend: float32\n",
      "B_17: min=3.774554910407346e-08, max=1.0099999913726403 → recommend: float32\n",
      "B_18: min=5.8912217352213873e-08, max=1.009999998882574 → recommend: float32\n",
      "B_19: min=1.573037570201663e-09, max=1.0099999902761216 → recommend: float32\n",
      "D_66: min=0.0, max=1.0 → recommend: float16\n",
      "B_20: min=1.218623094656479e-09, max=1.0099999893849416 → recommend: float32\n",
      "D_68: min=0.0, max=6.0 → recommend: float16\n",
      "S_12: min=-0.4041089608718481, max=175.33141978722094 → recommend: float32\n",
      "R_6: min=4.6506810291724314e-10, max=14.44820127050934 → recommend: float32\n",
      "S_13: min=3.6556575733204245e-09, max=1.0099999697700697 → recommend: float32\n",
      "B_21: min=4.4267525967089935e-09, max=288.2942875761814 → recommend: float32\n",
      "D_69: min=6.051601151302322e-09, max=13000.909349826265 → recommend: float32\n",
      "B_22: min=2.056147848650269e-09, max=3.5077588047431028 → recommend: float32\n",
      "D_70: min=6.623321358034671e-10, max=7.004608268552563 → recommend: float32\n",
      "D_71: min=3.026939331407519e-09, max=67.03230804932387 → recommend: float32\n",
      "D_72: min=3.3814336330983957e-10, max=3.009999890648296 → recommend: float32\n",
      "S_15: min=-0.2999997869040892, max=5.308959433760895 → recommend: float32\n",
      "B_23: min=4.3529628566130194e-08, max=1.6930979992121915 → recommend: float32\n",
      "D_73: min=-0.0452614935570035, max=3.853646942170173 → recommend: float32\n",
      "P_4: min=2.668066003685965e-09, max=1.2693903764285452 → recommend: float32\n",
      "D_74: min=2.137169229365909e-09, max=4.5090854790484896 → recommend: float32\n",
      "D_75: min=1.1208106220905731e-09, max=4.275118160424186 → recommend: float32\n",
      "D_76: min=3.1284823169608346e-07, max=15.13261459533479 → recommend: float32\n",
      "B_24: min=1.820938899665947e-09, max=46.60664741632751 → recommend: float32\n",
      "R_7: min=8.676290463860426e-10, max=449.9888854042718 → recommend: float32\n",
      "D_77: min=2.6787140213757614e-08, max=10.229169660158522 → recommend: float32\n",
      "B_25: min=-11.253577374985708, max=15.699758371405638 → recommend: float32\n",
      "B_26: min=1.691720986629619e-09, max=1499.2203098823074 → recommend: float32\n",
      "D_78: min=6.210012193363923e-10, max=16.00864434848962 → recommend: float32\n",
      "D_79: min=1.4380668433844334e-10, max=18.00687416215985 → recommend: float32\n",
      "R_8: min=1.7380910344311215e-09, max=38.00807883554096 → recommend: float32\n",
      "R_9: min=3.121485060242346e-07, max=1.509999456356119 → recommend: float32\n",
      "S_16: min=5.083304648323406e-09, max=231.75894716058667 → recommend: float32\n",
      "D_80: min=1.890424892181386e-09, max=8.009780011849728 → recommend: float32\n",
      "R_10: min=2.2332498161858896e-09, max=21.003672412683155 → recommend: float32\n",
      "R_11: min=8.363790371390679e-10, max=12.502596050582229 → recommend: float32\n",
      "B_27: min=1.0441590292398215e-09, max=1.0053700909808778 → recommend: float32\n",
      "D_81: min=5.759928967119521e-10, max=8.00999272648431 → recommend: float32\n",
      "D_82: min=3.8131993883583353e-08, max=3.008526474547693 → recommend: float32\n",
      "S_17: min=1.0198057098786962e-09, max=4.049070266700224 → recommend: float32\n",
      "R_12: min=-0.0917934736522874, max=1.0099999997931357 → recommend: float32\n",
      "B_28: min=-2.1602069973983548e-05, max=25.533371939885043 → recommend: float32\n",
      "R_13: min=2.894742647807646e-09, max=1.0053213737518945 → recommend: float32\n",
      "D_83: min=5.042657013065721e-09, max=38.00753095660378 → recommend: float32\n",
      "R_14: min=6.702420429771647e-10, max=4837.304861010084 → recommend: float32\n",
      "R_15: min=3.588444008606473e-10, max=1.0099999633226306 → recommend: float32\n",
      "D_84: min=1.1903791830025767e-09, max=29.005588414149454 → recommend: float32\n",
      "R_16: min=5.6605600540216e-10, max=18.50013083799228 → recommend: float32\n",
      "B_29: min=2.1463593442572212e-08, max=12.023967787593664 → recommend: float32\n",
      "B_30: min=0.0, max=2.0 → recommend: float16\n",
      "S_18: min=4.075928594637901e-11, max=1.0099999449287145 → recommend: float32\n",
      "D_86: min=7.226233278423422e-11, max=1.009999972996415 → recommend: float32\n",
      "D_87: min=1.0, max=1.0 → recommend: float16\n",
      "R_17: min=1.0661143834411746e-09, max=1.0015279405762851 → recommend: float32\n",
      "R_18: min=2.1702871244588806e-09, max=1.000777320630167 → recommend: float32\n",
      "D_88: min=-3.196266383615005e-05, max=2.669250093434481 → recommend: float32\n",
      "S_19: min=3.1563902669340396e-09, max=1.0047294856148157 → recommend: float32\n",
      "R_19: min=1.954925309410882e-09, max=1.0099998779247248 → recommend: float32\n",
      "B_32: min=2.0981418269450103e-09, max=1.0099999980877084 → recommend: float32\n",
      "S_20: min=6.887991221837809e-10, max=1.0099995775256172 → recommend: float32\n",
      "R_20: min=4.972086038446122e-09, max=45.006028224504064 → recommend: float32\n",
      "R_21: min=3.6468720598925587e-09, max=1.0099999400231243 → recommend: float32\n",
      "B_33: min=2.1471889044555326e-10, max=1.0099999926973888 → recommend: float32\n",
      "D_89: min=2.0142997048111512e-10, max=1.0099964484531143 → recommend: float32\n",
      "R_22: min=9.57614627594694e-10, max=1.0099998432591013 → recommend: float32\n",
      "R_23: min=8.443200483210232e-10, max=1.0099853149541451 → recommend: float32\n",
      "D_91: min=1.1176824277203679e-09, max=3.0097374296653863 → recommend: float32\n",
      "D_92: min=2.0883781381986204e-09, max=2.009999865039541 → recommend: float32\n",
      "D_93: min=6.382818610317642e-09, max=1.0099999683795924 → recommend: float32\n",
      "D_94: min=9.098536091212139e-10, max=1.009999863410338 → recommend: float32\n",
      "R_24: min=6.57026173467301e-10, max=1.0099999468648522 → recommend: float32\n",
      "R_25: min=4.6405618236988746e-11, max=1.009999694512149 → recommend: float32\n",
      "D_96: min=2.6778247841363624e-10, max=1.0099997759615107 → recommend: float32\n",
      "S_22: min=-91.99815644228173, max=1.032726655571362 → recommend: float32\n",
      "S_23: min=-206.0854662877428, max=885.3349224399432 → recommend: float32\n",
      "S_24: min=-90.48382192636736, max=1.05563794214751 → recommend: float32\n",
      "S_25: min=-2.453450577334403, max=4.052047833364775 → recommend: float32\n",
      "S_26: min=5.137101491969887e-09, max=136.6659908858774 → recommend: float32\n",
      "D_102: min=9.620586682856923e-10, max=1.089998124936563 → recommend: float32\n",
      "D_103: min=1.025805731469376e-09, max=1.0099999979183536 → recommend: float32\n",
      "D_104: min=2.869107660341541e-09, max=1.302976101367775 → recommend: float32\n",
      "D_105: min=-0.0264048177627183, max=5.631732239390759 → recommend: float32\n",
      "D_106: min=7.532992289949194e-08, max=626.829194745863 → recommend: float32\n",
      "D_107: min=6.403922221398517e-09, max=7.009004013330228 → recommend: float32\n",
      "B_36: min=1.160855576110009e-09, max=1.0023400294860374 → recommend: float32\n",
      "B_37: min=-7.604273054959358, max=1.3278119274068874 → recommend: float32\n",
      "R_26: min=2.9707001384382545e-08, max=9.509053396045594 → recommend: float32\n",
      "R_27: min=-0.0257109932455966, max=1.0099999997379483 → recommend: float32\n",
      "B_38: min=1.0, max=7.0 → recommend: float16\n",
      "D_108: min=3.917639360595526e-07, max=9.008855929641069 → recommend: float32\n",
      "D_109: min=3.1195673266815046e-10, max=1.0099995090554998 → recommend: float32\n",
      "D_110: min=-0.0237499422707655, max=1.0099996563514988 → recommend: float32\n",
      "D_111: min=3.091679908044931e-06, max=1.0099995086638465 → recommend: float32\n",
      "B_39: min=-0.9793140255532508, max=2.0608986049342155 → recommend: float32\n",
      "D_112: min=4.3446399642377296e-08, max=1.009999999415333 → recommend: float32\n",
      "B_40: min=1.2012753594081717e-08, max=5755.075986356201 → recommend: float32\n",
      "S_27: min=4.417077348328745e-10, max=5.456268982023772 → recommend: float32\n",
      "D_113: min=1.463473564555784e-11, max=25.007557964674724 → recommend: float32\n",
      "D_114: min=0.0, max=1.0 → recommend: float16\n",
      "D_115: min=2.228053573816169e-07, max=1.9995397891296307 → recommend: float32\n",
      "D_116: min=0.0, max=1.0 → recommend: float16\n",
      "D_117: min=-1.0, max=6.0 → recommend: float16\n",
      "D_118: min=2.5519062821777186e-08, max=1.9709074899577808 → recommend: float32\n",
      "D_119: min=7.076708925080057e-08, max=1.9770066990806103 → recommend: float32\n",
      "D_120: min=0.0, max=1.0 → recommend: float16\n",
      "D_121: min=-0.0320754701614068, max=1.7911148155352958 → recommend: float32\n",
      "D_122: min=4.0330947662647896e-08, max=2.009276229032558 → recommend: float32\n",
      "D_123: min=8.57864307368672e-10, max=104.00615868344808 → recommend: float32\n",
      "D_124: min=-0.0454543793091853, max=9.094334743722644 → recommend: float32\n",
      "D_125: min=4.410463673165665e-09, max=14.008477392892544 → recommend: float32\n",
      "D_126: min=-1.0, max=1.0 → recommend: float16\n",
      "D_127: min=1.006008072401698e-09, max=1.0099999960157997 → recommend: float32\n",
      "D_128: min=3.235348691177364e-09, max=1.0234716631646796 → recommend: float32\n",
      "D_129: min=2.42287579999001e-10, max=1.0099999971771794 → recommend: float32\n",
      "B_41: min=2.030712941136769e-09, max=22.004879042044784 → recommend: float32\n",
      "B_42: min=3.108574445339449e-06, max=9.05183699270306 → recommend: float32\n",
      "D_130: min=6.097073512734142e-11, max=1.0280444096044516 → recommend: float32\n",
      "D_131: min=5.173169237426834e-10, max=1.4916238249969112 → recommend: float32\n",
      "D_132: min=-0.0151019866772518, max=6.039005598187905 → recommend: float32\n",
      "D_133: min=6.380581907272642e-10, max=1.5099995456902016 → recommend: float32\n",
      "R_28: min=1.0979224740470524e-09, max=1.0099956346812466 → recommend: float32\n",
      "D_134: min=-0.0124442006641261, max=1.0099998439935904 → recommend: float32\n",
      "D_135: min=5.0083038493076174e-08, max=1.0099986146572169 → recommend: float32\n",
      "D_136: min=6.31677341755843e-08, max=1.7599103045031437 → recommend: float32\n",
      "D_137: min=1.0787865332151373e-08, max=1.009997646372751 → recommend: float32\n",
      "D_138: min=3.3079232127919414e-08, max=3.0053825226360766 → recommend: float32\n",
      "D_139: min=3.7673473007870937e-10, max=1.0099999942934916 → recommend: float32\n",
      "D_140: min=3.7250732820570675e-09, max=1.009999985316682 → recommend: float32\n",
      "D_141: min=1.650099723526921e-10, max=1.339910388202192 → recommend: float32\n",
      "D_142: min=-0.0145393397907504, max=2.2293682152868834 → recommend: float32\n",
      "D_143: min=5.5496921291808834e-09, max=1.00999999917923 → recommend: float32\n",
      "D_144: min=2.5009905724182604e-09, max=1.3433309550075665 → recommend: float32\n",
      "D_145: min=1.226024014533422e-09, max=4.82762988488277 → recommend: float32\n"
     ]
    }
   ],
   "source": [
    "FLOAT16_MIN = -65504\n",
    "FLOAT16_MAX = 65504\n",
    "FLOAT32_MIN = -3.4e38\n",
    "FLOAT32_MAX = 3.4e38\n",
    "\n",
    "def is_low_precision(series, decimal_places=3):\n",
    "    \"\"\"Estimate whether values in a float column have low precision\"\"\"\n",
    "    # Sample small chunk to avoid loading everything into memory\n",
    "    return (series.dropna().head(1000).round(decimal_places) == series.dropna().head(1000)).all()\n",
    "\n",
    "def choose_best_dtype(min_val, max_val, precision_low):\n",
    "    if FLOAT16_MIN <= min_val <= FLOAT16_MAX and FLOAT16_MIN <= max_val <= FLOAT16_MAX and precision_low:\n",
    "        return 'float16'\n",
    "    elif FLOAT32_MIN <= min_val <= FLOAT32_MAX and FLOAT32_MIN <= max_val <= FLOAT32_MAX:\n",
    "        return 'float32'\n",
    "    else:\n",
    "        return 'float64'\n",
    "\n",
    "# Process recommendations\n",
    "downcast_recommendations = {}\n",
    "\n",
    "for col in float_columns:\n",
    "    min_val = float_min[col]\n",
    "    max_val = float_max[col]\n",
    "\n",
    "    # You should sample a few rows from the original column to check precision\n",
    "    # Let's assume you can grab a small sample from a chunk\n",
    "    for chunk in pd.read_csv(train_data_path, usecols=[col], chunksize=10000):\n",
    "        try:\n",
    "            precision_low = is_low_precision(chunk[col])\n",
    "            break  # only need first valid chunk\n",
    "        except Exception:\n",
    "            continue\n",
    "\n",
    "    best_dtype = choose_best_dtype(min_val, max_val, precision_low)\n",
    "    downcast_recommendations[col] = best_dtype\n",
    "\n",
    "# Print the summary\n",
    "print(\"=== FLOAT COLUMN TYPE RECOMMENDATIONS ===\")\n",
    "for col in float_columns:\n",
    "    print(f\"{col}: min={float_min[col]}, max={float_max[col]} → recommend: {downcast_recommendations[col]}\")"
   ]
  },
  {
   "cell_type": "code",
   "execution_count": 23,
   "id": "7b8a68b4-b3f6-4d07-a47a-c0c67b71ca11",
   "metadata": {
    "tags": []
   },
   "outputs": [
    {
     "name": "stdout",
     "output_type": "stream",
     "text": [
      "Float16 columns: ['D_66', 'D_68', 'B_30', 'D_87', 'B_38', 'D_114', 'D_116', 'D_117', 'D_120', 'D_126']\n",
      "Float32 columns: ['P_2', 'D_39', 'B_1', 'B_2', 'R_1', 'S_3', 'D_41', 'B_3', 'D_42', 'D_43', 'D_44', 'B_4', 'D_45', 'B_5', 'R_2', 'D_46', 'D_47', 'D_48', 'D_49', 'B_6', 'B_7', 'B_8', 'D_50', 'D_51', 'B_9', 'R_3', 'D_52', 'P_3', 'B_10', 'D_53', 'S_5', 'B_11', 'S_6', 'D_54', 'R_4', 'S_7', 'B_12', 'S_8', 'D_55', 'D_56', 'B_13', 'R_5', 'D_58', 'S_9', 'B_14', 'D_59', 'D_60', 'D_61', 'B_15', 'S_11', 'D_62', 'D_65', 'B_16', 'B_17', 'B_18', 'B_19', 'B_20', 'S_12', 'R_6', 'S_13', 'B_21', 'D_69', 'B_22', 'D_70', 'D_71', 'D_72', 'S_15', 'B_23', 'D_73', 'P_4', 'D_74', 'D_75', 'D_76', 'B_24', 'R_7', 'D_77', 'B_25', 'B_26', 'D_78', 'D_79', 'R_8', 'R_9', 'S_16', 'D_80', 'R_10', 'R_11', 'B_27', 'D_81', 'D_82', 'S_17', 'R_12', 'B_28', 'R_13', 'D_83', 'R_14', 'R_15', 'D_84', 'R_16', 'B_29', 'S_18', 'D_86', 'R_17', 'R_18', 'D_88', 'S_19', 'R_19', 'B_32', 'S_20', 'R_20', 'R_21', 'B_33', 'D_89', 'R_22', 'R_23', 'D_91', 'D_92', 'D_93', 'D_94', 'R_24', 'R_25', 'D_96', 'S_22', 'S_23', 'S_24', 'S_25', 'S_26', 'D_102', 'D_103', 'D_104', 'D_105', 'D_106', 'D_107', 'B_36', 'B_37', 'R_26', 'R_27', 'D_108', 'D_109', 'D_110', 'D_111', 'B_39', 'D_112', 'B_40', 'S_27', 'D_113', 'D_115', 'D_118', 'D_119', 'D_121', 'D_122', 'D_123', 'D_124', 'D_125', 'D_127', 'D_128', 'D_129', 'B_41', 'B_42', 'D_130', 'D_131', 'D_132', 'D_133', 'R_28', 'D_134', 'D_135', 'D_136', 'D_137', 'D_138', 'D_139', 'D_140', 'D_141', 'D_142', 'D_143', 'D_144', 'D_145']\n",
      "Float64 columns: []\n"
     ]
    }
   ],
   "source": [
    "float16_cols = []\n",
    "float32_cols = []\n",
    "float64_cols = []\n",
    "\n",
    "for col in float_columns:\n",
    "    dtype = downcast_recommendations[col]\n",
    "    if dtype == 'float16':\n",
    "        float16_cols.append(col)\n",
    "    elif dtype == 'float32':\n",
    "        float32_cols.append(col)\n",
    "    else:\n",
    "        float64_cols.append(col)\n",
    "\n",
    "# Now you have three lists with column names categorized by recommended dtype:\n",
    "print(\"Float16 columns:\", float16_cols)\n",
    "print(\"Float32 columns:\", float32_cols)\n",
    "print(\"Float64 columns:\", float64_cols)"
   ]
  },
  {
   "cell_type": "markdown",
   "id": "0aacde87-a0b1-471f-9fb2-4d6ff9892565",
   "metadata": {},
   "source": [
    "Handled integer data set"
   ]
  },
  {
   "cell_type": "code",
   "execution_count": 24,
   "id": "d08c0187-f1fc-4e71-a4d7-55a45f2138f7",
   "metadata": {
    "tags": []
   },
   "outputs": [],
   "source": [
    "sample['B_31'] = sample['B_31'].astype('uint8')"
   ]
  },
  {
   "cell_type": "code",
   "execution_count": 25,
   "id": "751cacdf-3dda-4caf-94b0-9abf1258bff7",
   "metadata": {
    "tags": []
   },
   "outputs": [],
   "source": [
    "sample[float16_cols] = sample[float16_cols].astype('float16')\n",
    "sample[float32_cols] = sample[float32_cols].astype('float32')\n",
    "sample[float64_cols] = sample[float64_cols].astype('float64')"
   ]
  },
  {
   "cell_type": "code",
   "execution_count": 26,
   "id": "59162e98-9597-4248-8a66-296d19a02d34",
   "metadata": {
    "tags": []
   },
   "outputs": [
    {
     "name": "stdout",
     "output_type": "stream",
     "text": [
      "Zeros: 287, Ones: 99713, Missing: 0\n"
     ]
    }
   ],
   "source": [
    "num_zeros = (sample['B_31'] == 0).sum()\n",
    "num_ones = (sample['B_31'] == 1).sum()\n",
    "num_missing = sample['B_31'].isna().sum()\n",
    "\n",
    "print(f\"Zeros: {num_zeros}, Ones: {num_ones}, Missing: {num_missing}\")"
   ]
  },
  {
   "cell_type": "code",
   "execution_count": 27,
   "id": "a6ed571f-e262-4fb2-9514-45c646a7c07a",
   "metadata": {
    "tags": []
   },
   "outputs": [
    {
     "name": "stdout",
     "output_type": "stream",
     "text": [
      "Total Zeros: 16907\n",
      "Total Ones: 5514544\n",
      "Total Missing: 0\n"
     ]
    }
   ],
   "source": [
    "import pandas as pd\n",
    "\n",
    "# Initialize counters\n",
    "zero_count = 0\n",
    "one_count = 0\n",
    "missing_count = 0\n",
    "\n",
    "chunk_size = 100_000\n",
    "file_path = '/notebooks/data/train_data.csv'\n",
    "\n",
    "# Loop through dataset in chunks\n",
    "for chunk in pd.read_csv(file_path, usecols=['B_31'], chunksize=chunk_size):\n",
    "    zero_count += (chunk['B_31'] == 0).sum()\n",
    "    one_count += (chunk['B_31'] == 1).sum()\n",
    "    missing_count += chunk['B_31'].isna().sum()\n",
    "\n",
    "# Print final summary\n",
    "print(f\"Total Zeros: {zero_count}\")\n",
    "print(f\"Total Ones: {one_count}\")\n",
    "print(f\"Total Missing: {missing_count}\")"
   ]
  },
  {
   "cell_type": "code",
   "execution_count": 28,
   "id": "e0e2cfef-cfd6-49ff-935c-d7fed3de6c96",
   "metadata": {
    "tags": []
   },
   "outputs": [],
   "source": [
    "sample['B_31'] = sample['B_31'].astype(bool)"
   ]
  },
  {
   "cell_type": "markdown",
   "id": "c6ae2fa5-9802-4e62-ba79-f2dab535f103",
   "metadata": {},
   "source": [
    "Handling object dtype data."
   ]
  },
  {
   "cell_type": "markdown",
   "id": "7c9a58d1-8794-4f1e-b8f7-0b868b43a788",
   "metadata": {
    "tags": []
   },
   "source": [
    "customer_ID (Unique ID)\n",
    "Nature: Completely unique.\n",
    "Best action: Keep as string or drop if not needed for modeling."
   ]
  },
  {
   "cell_type": "code",
   "execution_count": 29,
   "id": "d96306d1-a3f0-4189-9b44-868f22d42c41",
   "metadata": {
    "tags": []
   },
   "outputs": [],
   "source": [
    "sample['customer_ID'] = sample['customer_ID'].astype('string')"
   ]
  },
  {
   "cell_type": "markdown",
   "id": "de989506-d0aa-42f8-8853-e41f10142002",
   "metadata": {},
   "source": [
    "S_2 (Datetime stamp)\n",
    "Nature: Dates.\n",
    "Best action: Convert to datetime64."
   ]
  },
  {
   "cell_type": "code",
   "execution_count": 30,
   "id": "fd8352a7-3e0b-4848-8f6c-ec0ce560fb71",
   "metadata": {
    "tags": []
   },
   "outputs": [],
   "source": [
    "sample['S_2'] = pd.to_datetime(sample['S_2'])"
   ]
  },
  {
   "cell_type": "markdown",
   "id": "95cdb284-5725-4397-8f7e-41e4a431ed91",
   "metadata": {},
   "source": [
    "D_63 (Categorical)\n",
    "6 unique categories, no missing values.\n",
    "High cardinality with clear frequency difference"
   ]
  },
  {
   "cell_type": "code",
   "execution_count": 31,
   "id": "94f97b20-6267-46e2-b679-3cb32ebcdf60",
   "metadata": {
    "tags": []
   },
   "outputs": [],
   "source": [
    "sample['D_63'] = sample['D_63'].astype('category')"
   ]
  },
  {
   "cell_type": "markdown",
   "id": "a914963f-2fd4-4759-9dda-d5953db67980",
   "metadata": {},
   "source": [
    "D_64 (Categorical)\n",
    "5 values: O, U, R, -1, and missing.\n",
    "Convert to categorical with missing handled."
   ]
  },
  {
   "cell_type": "code",
   "execution_count": 32,
   "id": "b9dd3aaa-cc51-4d6c-8b40-5bccf2f13eae",
   "metadata": {
    "tags": []
   },
   "outputs": [],
   "source": [
    "sample['D_64'] = sample['D_64'].astype('category')"
   ]
  },
  {
   "cell_type": "code",
   "execution_count": 33,
   "id": "20ce8984-9a6c-40c8-b051-80099cd2fb18",
   "metadata": {
    "tags": []
   },
   "outputs": [],
   "source": [
    "# Add 'MISSING' to categories before filling NaNs\n",
    "if 'MISSING' not in sample['D_64'].cat.categories:\n",
    "    sample['D_64'] = sample['D_64'].cat.add_categories('MISSING')\n",
    "\n",
    "# Now fill NaNs safely\n",
    "sample['D_64'] = sample['D_64'].fillna('MISSING')"
   ]
  },
  {
   "cell_type": "code",
   "execution_count": 34,
   "id": "e2e46009-7411-433f-baab-f15d9d393be2",
   "metadata": {
    "tags": []
   },
   "outputs": [
    {
     "name": "stdout",
     "output_type": "stream",
     "text": [
      "Variable             Type                 Size           \n",
      "-------------------------------------------------------\n",
      "sample               DataFrame            85.2 MB        \n",
      "d63_vals             Series               2.1 MB         \n",
      "d64_vals             Series               2.0 MB         \n",
      "d63_series           Series               1.9 MB         \n",
      "d64_series           Series               1.8 MB         \n",
      "chunk                DataFrame            251.8 kB       \n",
      "float_columns        Index                11.3 kB        \n",
      "float_min            dict                 6.6 kB         \n",
      "float_max            dict                 6.6 kB         \n",
      "downcast_recommendations dict                 6.6 kB         \n",
      "Counter              type                 1.7 kB         \n",
      "float32_cols         list                 1.7 kB         \n",
      "unique_d63           set                  728 Bytes      \n",
      "In                   list                 376 Bytes      \n",
      "count_d63            Counter              296 Bytes      \n",
      "object_cols          Index                282 Bytes      \n",
      "Out                  dict                 224 Bytes      \n",
      "unique_d64           set                  216 Bytes      \n",
      "count_d64            Counter              208 Bytes      \n",
      "int_min              dict                 184 Bytes      \n",
      "int_max              dict                 184 Bytes      \n",
      "float16_cols         list                 184 Bytes      \n",
      "open                 function             152 Bytes      \n",
      "print_variable_sizes function             152 Bytes      \n",
      "is_low_precision     function             152 Bytes      \n",
      "choose_best_dtype    function             152 Bytes      \n",
      "int_columns          Index                93 Bytes       \n",
      "train_data_path      str                  79 Bytes       \n",
      "file_path            str                  79 Bytes       \n",
      "pd                   module               72 Bytes       \n",
      "np                   module               72 Bytes       \n",
      "sys                  module               72 Bytes       \n",
      "humanize             module               72 Bytes       \n",
      "get_ipython          method               64 Bytes       \n",
      "unique_vals          dict                 64 Bytes       \n",
      "exit                 ZMQExitAutocall      56 Bytes       \n",
      "quit                 ZMQExitAutocall      56 Bytes       \n",
      "best_dtype           str                  56 Bytes       \n",
      "float64_cols         list                 56 Bytes       \n",
      "dtype                str                  56 Bytes       \n",
      "col                  str                  54 Bytes       \n",
      "k                    str                  51 Bytes       \n",
      "missing_d63          int64                32 Bytes       \n",
      "missing_d64          int64                32 Bytes       \n",
      "current_min          float64              32 Bytes       \n",
      "current_max          float64              32 Bytes       \n",
      "min_val              float64              32 Bytes       \n",
      "max_val              float64              32 Bytes       \n",
      "num_zeros            int64                32 Bytes       \n",
      "num_ones             int64                32 Bytes       \n",
      "num_missing          int64                32 Bytes       \n",
      "zero_count           int64                32 Bytes       \n",
      "one_count            int64                32 Bytes       \n",
      "missing_count        int64                32 Bytes       \n",
      "chunk_size           int                  28 Bytes       \n",
      "v                    int                  28 Bytes       \n",
      "FLOAT16_MIN          int                  28 Bytes       \n",
      "FLOAT16_MAX          int                  28 Bytes       \n",
      "precision_low        bool_                25 Bytes       \n",
      "FLOAT32_MIN          float                24 Bytes       \n",
      "FLOAT32_MAX          float                24 Bytes       \n"
     ]
    }
   ],
   "source": [
    "print_variable_sizes()"
   ]
  },
  {
   "cell_type": "code",
   "execution_count": 35,
   "id": "aca5d6ad-590d-40d8-a56f-919798804e09",
   "metadata": {
    "tags": []
   },
   "outputs": [
    {
     "name": "stdout",
     "output_type": "stream",
     "text": [
      "Top 20 columns with most missing values:\n",
      "D_87     99.930127\n",
      "D_88     99.891457\n",
      "D_108    99.476846\n",
      "D_111    99.433530\n",
      "D_110    99.433530\n",
      "B_39     99.391986\n",
      "D_73     98.990211\n",
      "B_42     98.707789\n",
      "D_134    96.480146\n",
      "D_135    96.480146\n",
      "D_136    96.480146\n",
      "D_137    96.480146\n",
      "D_138    96.480146\n",
      "R_9      94.349891\n",
      "B_29     93.104594\n",
      "D_106    90.213255\n",
      "D_132    90.191055\n",
      "D_49     90.137597\n",
      "R_26     88.984717\n",
      "D_76     88.746226\n",
      "dtype: float64\n",
      "\n",
      "Columns with more than 60% missing: 25\n",
      "['D_87', 'D_88', 'D_108', 'D_111', 'D_110', 'B_39', 'D_73', 'B_42', 'D_134', 'D_135', 'D_136', 'D_137', 'D_138', 'R_9', 'B_29', 'D_106', 'D_132', 'D_49', 'R_26', 'D_76', 'D_66', 'D_42', 'D_142', 'D_53', 'D_82']\n"
     ]
    }
   ],
   "source": [
    "# Path to your full CSV\n",
    "chunk_size = 100_000\n",
    "\n",
    "# Initialize counters\n",
    "total_rows = 0\n",
    "nan_counts = None\n",
    "\n",
    "# Iterate through file in chunks\n",
    "for chunk in pd.read_csv(train_data_path, chunksize=chunk_size):\n",
    "    total_rows += len(chunk)\n",
    "\n",
    "    # Initialize nan_counts with column names in first chunk\n",
    "    if nan_counts is None:\n",
    "        nan_counts = chunk.isna().sum()\n",
    "    else:\n",
    "        nan_counts += chunk.isna().sum()\n",
    "\n",
    "# Compute missing percentage\n",
    "nan_percentage = (nan_counts / total_rows) * 100\n",
    "nan_percentage = nan_percentage.sort_values(ascending=False)\n",
    "\n",
    "# Display top 20 columns with highest missing percentage\n",
    "print(\"Top 20 columns with most missing values:\")\n",
    "print(nan_percentage.head(20))\n",
    "\n",
    "# Optional: columns with > 60% missing\n",
    "high_nan_cols = nan_percentage[nan_percentage > 60].index.tolist()\n",
    "print(f\"\\nColumns with more than 60% missing: {len(high_nan_cols)}\")\n",
    "print(high_nan_cols)"
   ]
  },
  {
   "cell_type": "code",
   "execution_count": 36,
   "id": "7364a5bc-1260-4db5-9349-5f4918568ddc",
   "metadata": {
    "tags": []
   },
   "outputs": [],
   "source": [
    "target = pd.read_csv('/notebooks/data/train_labels.csv',  nrows=100_000)"
   ]
  },
  {
   "cell_type": "code",
   "execution_count": 37,
   "id": "6f843a82-d48f-43cc-ab18-ec2e0455a7ff",
   "metadata": {
    "tags": []
   },
   "outputs": [
    {
     "data": {
      "text/html": [
       "<div>\n",
       "<style scoped>\n",
       "    .dataframe tbody tr th:only-of-type {\n",
       "        vertical-align: middle;\n",
       "    }\n",
       "\n",
       "    .dataframe tbody tr th {\n",
       "        vertical-align: top;\n",
       "    }\n",
       "\n",
       "    .dataframe thead th {\n",
       "        text-align: right;\n",
       "    }\n",
       "</style>\n",
       "<table border=\"1\" class=\"dataframe\">\n",
       "  <thead>\n",
       "    <tr style=\"text-align: right;\">\n",
       "      <th></th>\n",
       "      <th>customer_ID</th>\n",
       "      <th>target</th>\n",
       "    </tr>\n",
       "  </thead>\n",
       "  <tbody>\n",
       "    <tr>\n",
       "      <th>0</th>\n",
       "      <td>0000099d6bd597052cdcda90ffabf56573fe9d7c79be5f...</td>\n",
       "      <td>0</td>\n",
       "    </tr>\n",
       "    <tr>\n",
       "      <th>1</th>\n",
       "      <td>00000fd6641609c6ece5454664794f0340ad84dddce9a2...</td>\n",
       "      <td>0</td>\n",
       "    </tr>\n",
       "    <tr>\n",
       "      <th>2</th>\n",
       "      <td>00001b22f846c82c51f6e3958ccd81970162bae8b007e8...</td>\n",
       "      <td>0</td>\n",
       "    </tr>\n",
       "    <tr>\n",
       "      <th>3</th>\n",
       "      <td>000041bdba6ecadd89a52d11886e8eaaec9325906c9723...</td>\n",
       "      <td>0</td>\n",
       "    </tr>\n",
       "    <tr>\n",
       "      <th>4</th>\n",
       "      <td>00007889e4fcd2614b6cbe7f8f3d2e5c728eca32d9eb8a...</td>\n",
       "      <td>0</td>\n",
       "    </tr>\n",
       "    <tr>\n",
       "      <th>5</th>\n",
       "      <td>000084e5023181993c2e1b665ac88dbb1ce9ef621ec537...</td>\n",
       "      <td>0</td>\n",
       "    </tr>\n",
       "    <tr>\n",
       "      <th>6</th>\n",
       "      <td>000098081fde4fd64bc4d503a5d6f86a0aedc425c96f52...</td>\n",
       "      <td>0</td>\n",
       "    </tr>\n",
       "    <tr>\n",
       "      <th>7</th>\n",
       "      <td>0000d17a1447b25a01e42e1ac56b091bb7cbb06317be4c...</td>\n",
       "      <td>0</td>\n",
       "    </tr>\n",
       "    <tr>\n",
       "      <th>8</th>\n",
       "      <td>0000f99513770170a1aba690daeeb8a96da4a39f11fc27...</td>\n",
       "      <td>1</td>\n",
       "    </tr>\n",
       "    <tr>\n",
       "      <th>9</th>\n",
       "      <td>00013181a0c5fc8f1ea38cd2b90fe8ad2fa8cad9d9f13e...</td>\n",
       "      <td>1</td>\n",
       "    </tr>\n",
       "  </tbody>\n",
       "</table>\n",
       "</div>"
      ],
      "text/plain": [
       "                                         customer_ID  target\n",
       "0  0000099d6bd597052cdcda90ffabf56573fe9d7c79be5f...       0\n",
       "1  00000fd6641609c6ece5454664794f0340ad84dddce9a2...       0\n",
       "2  00001b22f846c82c51f6e3958ccd81970162bae8b007e8...       0\n",
       "3  000041bdba6ecadd89a52d11886e8eaaec9325906c9723...       0\n",
       "4  00007889e4fcd2614b6cbe7f8f3d2e5c728eca32d9eb8a...       0\n",
       "5  000084e5023181993c2e1b665ac88dbb1ce9ef621ec537...       0\n",
       "6  000098081fde4fd64bc4d503a5d6f86a0aedc425c96f52...       0\n",
       "7  0000d17a1447b25a01e42e1ac56b091bb7cbb06317be4c...       0\n",
       "8  0000f99513770170a1aba690daeeb8a96da4a39f11fc27...       1\n",
       "9  00013181a0c5fc8f1ea38cd2b90fe8ad2fa8cad9d9f13e...       1"
      ]
     },
     "execution_count": 37,
     "metadata": {},
     "output_type": "execute_result"
    }
   ],
   "source": [
    "target.head(10)"
   ]
  },
  {
   "cell_type": "code",
   "execution_count": 38,
   "id": "92e0b937-6372-4454-acd7-4feb131eecdb",
   "metadata": {
    "tags": []
   },
   "outputs": [],
   "source": [
    "merged = sample.merge(target, on='customer_ID', how='left')"
   ]
  },
  {
   "cell_type": "code",
   "execution_count": 39,
   "id": "1fe6d27f-1f16-4be7-8f14-28a839ab2f76",
   "metadata": {
    "tags": []
   },
   "outputs": [
    {
     "name": "stdout",
     "output_type": "stream",
     "text": [
      "D_87: missingness vs target correlation = -0.0302\n",
      "D_88: missingness vs target correlation = -0.0451\n",
      "D_108: missingness vs target correlation = -0.0315\n",
      "D_111: missingness vs target correlation = -0.0631\n",
      "D_110: missingness vs target correlation = -0.0631\n",
      "B_39: missingness vs target correlation = -0.0619\n",
      "D_73: missingness vs target correlation = -0.0193\n",
      "B_42: missingness vs target correlation = 0.0282\n",
      "D_134: missingness vs target correlation = -0.1583\n",
      "D_135: missingness vs target correlation = -0.1583\n",
      "D_136: missingness vs target correlation = -0.1583\n",
      "D_137: missingness vs target correlation = -0.1583\n",
      "D_138: missingness vs target correlation = -0.1583\n",
      "R_9: missingness vs target correlation = -0.1956\n",
      "B_29: missingness vs target correlation = 0.0021\n",
      "D_106: missingness vs target correlation = -0.2239\n",
      "D_132: missingness vs target correlation = -0.2246\n",
      "D_49: missingness vs target correlation = -0.2257\n",
      "R_26: missingness vs target correlation = -0.2732\n",
      "D_76: missingness vs target correlation = 0.1262\n",
      "D_66: missingness vs target correlation = 0.0294\n",
      "D_42: missingness vs target correlation = -0.2414\n",
      "D_142: missingness vs target correlation = -0.1296\n",
      "D_53: missingness vs target correlation = -0.2621\n",
      "D_82: missingness vs target correlation = 0.0569\n",
      "\n",
      "High missingness correlation columns: ['D_111', 'D_110', 'B_39', 'D_134', 'D_135', 'D_136', 'D_137', 'D_138', 'R_9', 'D_106', 'D_132', 'D_49', 'R_26', 'D_76', 'D_42', 'D_142', 'D_53', 'D_82']\n",
      "Low missingness correlation columns: ['D_87', 'D_88', 'D_108', 'D_73', 'B_42', 'B_29', 'D_66']\n"
     ]
    }
   ],
   "source": [
    "high_corr_cols = []\n",
    "low_corr_cols = []\n",
    "\n",
    "for col in high_nan_cols:\n",
    "    missing_flag = merged[col].isna().astype(int)\n",
    "    corr = missing_flag.corr(merged['target'])\n",
    "    print(f\"{col}: missingness vs target correlation = {corr:.4f}\")\n",
    "    \n",
    "    if abs(corr) > 0.05:  # correlation threshold can be adjusted\n",
    "        high_corr_cols.append(col)\n",
    "    else:\n",
    "        low_corr_cols.append(col)\n",
    "\n",
    "print(\"\\nHigh missingness correlation columns:\", high_corr_cols)\n",
    "print(\"Low missingness correlation columns:\", low_corr_cols)"
   ]
  },
  {
   "cell_type": "code",
   "execution_count": null,
   "id": "8c885dd8-484c-4083-8978-3b4399b6000c",
   "metadata": {},
   "outputs": [],
   "source": []
  },
  {
   "cell_type": "code",
   "execution_count": 40,
   "id": "8a6724c2-b92f-4163-8633-aed4f2e6605a",
   "metadata": {
    "tags": []
   },
   "outputs": [
    {
     "name": "stdout",
     "output_type": "stream",
     "text": [
      "D_87: missingness vs target correlation = -0.0378\n",
      "D_88: missingness vs target correlation = -0.0417\n",
      "D_108: missingness vs target correlation = -0.0302\n",
      "D_111: missingness vs target correlation = -0.0539\n",
      "D_110: missingness vs target correlation = -0.0539\n",
      "B_39: missingness vs target correlation = -0.0541\n",
      "D_73: missingness vs target correlation = -0.0295\n",
      "B_42: missingness vs target correlation = 0.0353\n",
      "D_134: missingness vs target correlation = -0.1582\n",
      "D_135: missingness vs target correlation = -0.1582\n",
      "D_136: missingness vs target correlation = -0.1582\n",
      "D_137: missingness vs target correlation = -0.1582\n",
      "D_138: missingness vs target correlation = -0.1582\n",
      "R_9: missingness vs target correlation = -0.1867\n",
      "B_29: missingness vs target correlation = 0.0183\n",
      "D_106: missingness vs target correlation = -0.2292\n",
      "D_132: missingness vs target correlation = -0.2293\n",
      "D_49: missingness vs target correlation = -0.2302\n",
      "R_26: missingness vs target correlation = -0.2689\n",
      "D_76: missingness vs target correlation = 0.1208\n",
      "D_66: missingness vs target correlation = 0.0524\n",
      "D_42: missingness vs target correlation = -0.2353\n",
      "D_142: missingness vs target correlation = -0.1237\n",
      "D_53: missingness vs target correlation = -0.2546\n",
      "D_82: missingness vs target correlation = 0.0602\n",
      "\n",
      "High missingness correlation columns: ['D_111', 'D_110', 'B_39', 'D_134', 'D_135', 'D_136', 'D_137', 'D_138', 'R_9', 'D_106', 'D_132', 'D_49', 'R_26', 'D_76', 'D_66', 'D_42', 'D_142', 'D_53', 'D_82']\n",
      "Low missingness correlation columns: ['D_87', 'D_88', 'D_108', 'D_73', 'B_42', 'B_29']\n"
     ]
    }
   ],
   "source": [
    "# Load full train labels (assuming it fits in memory)\n",
    "train_labels = pd.read_csv('/notebooks/data/train_labels.csv')  # adjust filename/path\n",
    "\n",
    "chunk_size = 100_000  # or any chunk size suitable for your memory\n",
    "\n",
    "# Initialize counters to accumulate data for correlation\n",
    "missing_target_sum = {col: 0 for col in high_nan_cols}\n",
    "missing_sum = {col: 0 for col in high_nan_cols}\n",
    "target_sum = 0\n",
    "total_rows = 0\n",
    "\n",
    "for chunk in pd.read_csv(train_data_path, chunksize=chunk_size):\n",
    "    # Merge chunk with labels on customer_ID\n",
    "    merged = chunk.merge(train_labels, on='customer_ID', how='left')\n",
    "\n",
    "    total_rows += len(merged)\n",
    "    target_sum += merged['target'].sum()\n",
    "\n",
    "    for col in high_nan_cols:\n",
    "        missing_flag = merged[col].isna().astype(int)\n",
    "        missing_sum[col] += missing_flag.sum()\n",
    "        missing_target_sum[col] += ((missing_flag == 1) & (merged['target'] == 1)).sum()\n",
    "\n",
    "# Calculate correlation for each column\n",
    "high_corr_cols = []\n",
    "low_corr_cols = []\n",
    "\n",
    "for col in high_nan_cols:\n",
    "    p_missing = missing_sum[col] / total_rows\n",
    "    p_target = target_sum / total_rows\n",
    "    p_missing_target = missing_target_sum[col] / total_rows\n",
    "\n",
    "    numerator = p_missing_target - (p_missing * p_target)\n",
    "    denominator = np.sqrt(p_missing * (1 - p_missing) * p_target * (1 - p_target))\n",
    "    corr = numerator / denominator if denominator != 0 else 0\n",
    "\n",
    "    print(f\"{col}: missingness vs target correlation = {corr:.4f}\")\n",
    "\n",
    "    if abs(corr) > 0.05:  # your threshold\n",
    "        high_corr_cols.append(col)\n",
    "    else:\n",
    "        low_corr_cols.append(col)\n",
    "\n",
    "print(\"\\nHigh missingness correlation columns:\", high_corr_cols)\n",
    "print(\"Low missingness correlation columns:\", low_corr_cols)"
   ]
  },
  {
   "cell_type": "code",
   "execution_count": 41,
   "id": "286c96c9-9663-4978-b95f-20788fe0b1db",
   "metadata": {
    "tags": []
   },
   "outputs": [],
   "source": [
    "import pandas as pd\n",
    "import numpy as np\n",
    "\n",
    "# Create all missing flags in a dictionary first\n",
    "missing_flag_cols = {\n",
    "    f\"{col}_was_missing\": sample[col].isna().astype(np.uint8)\n",
    "    for col in high_corr_cols\n",
    "}\n",
    "\n",
    "# Create a DataFrame from the dictionary\n",
    "missing_flags_df = pd.DataFrame(missing_flag_cols, index=sample.index)\n",
    "\n",
    "# Concatenate all at once to avoid fragmentation\n",
    "sample = pd.concat([sample, missing_flags_df], axis=1)\n",
    "\n",
    "# Now fill NaNs with appropriate sentinel values\n",
    "for col in high_corr_cols:\n",
    "    dtype = sample[col].dtype\n",
    "    if dtype == np.float16:\n",
    "        sentinel = -100.0\n",
    "    elif dtype == np.float32:\n",
    "        sentinel = -999.0\n",
    "    else:\n",
    "        sentinel = -1\n",
    "    sample[col] = sample[col].fillna(sentinel)"
   ]
  },
  {
   "cell_type": "code",
   "execution_count": 42,
   "id": "855ca24c-42ed-4eb3-918b-9c99e24e54a1",
   "metadata": {
    "tags": []
   },
   "outputs": [],
   "source": [
    "sample.drop(columns=low_corr_cols, inplace=True)"
   ]
  },
  {
   "cell_type": "code",
   "execution_count": 43,
   "id": "6642bbd4-fdb2-4b98-b5d2-bccfc3d525a0",
   "metadata": {
    "tags": []
   },
   "outputs": [],
   "source": [
    "# Perform one-hot encoding (no need to fillna or astype again)\n",
    "dummies = pd.get_dummies(sample[['D_63', 'D_64']], prefix=['D_63', 'D_64'], dtype=np.uint8)\n",
    "\n",
    "# Drop original categorical columns and concatenate encoded ones\n",
    "sample = pd.concat([sample.drop(['D_63', 'D_64'], axis=1), dummies], axis=1)"
   ]
  },
  {
   "cell_type": "code",
   "execution_count": 44,
   "id": "c1e2bea8-3035-4d02-b938-404b385ef5a0",
   "metadata": {
    "tags": []
   },
   "outputs": [
    {
     "name": "stdout",
     "output_type": "stream",
     "text": [
      "Variable             Type                 Size           \n",
      "-------------------------------------------------------\n",
      "sample               DataFrame            85.8 MB        \n",
      "train_labels         DataFrame            59.2 MB        \n",
      "merged               DataFrame            56.6 MB        \n",
      "chunk                DataFrame            56.4 MB        \n",
      "target               DataFrame            12.9 MB        \n",
      "d63_vals             Series               2.1 MB         \n",
      "d64_vals             Series               2.0 MB         \n",
      "missing_flags_df     DataFrame            1.9 MB         \n",
      "d63_series           Series               1.9 MB         \n",
      "d64_series           Series               1.8 MB         \n",
      "dummies              DataFrame            1.1 MB         \n",
      "missing_flag         Series               251.8 kB       \n",
      "nan_percentage       Series               17.3 kB        \n",
      "nan_counts           Series               13.2 kB        \n",
      "float_columns        Index                11.3 kB        \n",
      "float_min            dict                 6.6 kB         \n",
      "float_max            dict                 6.6 kB         \n",
      "downcast_recommendations dict                 6.6 kB         \n",
      "Counter              type                 1.7 kB         \n",
      "float32_cols         list                 1.7 kB         \n",
      "missing_target_sum   dict                 832 Bytes      \n",
      "missing_sum          dict                 832 Bytes      \n",
      "unique_d63           set                  728 Bytes      \n",
      "In                   list                 472 Bytes      \n",
      "missing_flag_cols    dict                 464 Bytes      \n",
      "count_d63            Counter              296 Bytes      \n",
      "object_cols          Index                282 Bytes      \n",
      "high_nan_cols        list                 256 Bytes      \n",
      "high_corr_cols       list                 248 Bytes      \n",
      "Out                  dict                 224 Bytes      \n",
      "unique_d64           set                  216 Bytes      \n",
      "count_d64            Counter              208 Bytes      \n",
      "int_min              dict                 184 Bytes      \n",
      "int_max              dict                 184 Bytes      \n",
      "float16_cols         list                 184 Bytes      \n",
      "open                 function             152 Bytes      \n",
      "print_variable_sizes function             152 Bytes      \n",
      "is_low_precision     function             152 Bytes      \n",
      "choose_best_dtype    function             152 Bytes      \n",
      "low_corr_cols        list                 120 Bytes      \n",
      "dtype                Float32DType         96 Bytes       \n",
      "int_columns          Index                93 Bytes       \n",
      "train_data_path      str                  79 Bytes       \n",
      "file_path            str                  79 Bytes       \n",
      "pd                   module               72 Bytes       \n",
      "np                   module               72 Bytes       \n",
      "sys                  module               72 Bytes       \n",
      "humanize             module               72 Bytes       \n",
      "get_ipython          method               64 Bytes       \n",
      "unique_vals          dict                 64 Bytes       \n",
      "exit                 ZMQExitAutocall      56 Bytes       \n",
      "quit                 ZMQExitAutocall      56 Bytes       \n",
      "best_dtype           str                  56 Bytes       \n",
      "float64_cols         list                 56 Bytes       \n",
      "col                  str                  53 Bytes       \n",
      "k                    str                  51 Bytes       \n",
      "missing_d63          int64                32 Bytes       \n",
      "missing_d64          int64                32 Bytes       \n",
      "current_min          float64              32 Bytes       \n",
      "current_max          float64              32 Bytes       \n",
      "min_val              float64              32 Bytes       \n",
      "max_val              float64              32 Bytes       \n",
      "num_zeros            int64                32 Bytes       \n",
      "num_ones             int64                32 Bytes       \n",
      "num_missing          int64                32 Bytes       \n",
      "zero_count           int64                32 Bytes       \n",
      "one_count            int64                32 Bytes       \n",
      "missing_count        int64                32 Bytes       \n",
      "corr                 float64              32 Bytes       \n",
      "target_sum           int64                32 Bytes       \n",
      "p_missing            float64              32 Bytes       \n",
      "p_target             float64              32 Bytes       \n",
      "p_missing_target     float64              32 Bytes       \n",
      "numerator            float64              32 Bytes       \n",
      "denominator          float64              32 Bytes       \n",
      "chunk_size           int                  28 Bytes       \n",
      "v                    int                  28 Bytes       \n",
      "FLOAT16_MIN          int                  28 Bytes       \n",
      "FLOAT16_MAX          int                  28 Bytes       \n",
      "total_rows           int                  28 Bytes       \n",
      "precision_low        bool_                25 Bytes       \n",
      "FLOAT32_MIN          float                24 Bytes       \n",
      "FLOAT32_MAX          float                24 Bytes       \n",
      "sentinel             float                24 Bytes       \n"
     ]
    }
   ],
   "source": [
    "print_variable_sizes()"
   ]
  },
  {
   "cell_type": "code",
   "execution_count": 45,
   "id": "1d937d53-60be-4535-97fd-5be0d34973df",
   "metadata": {
    "tags": []
   },
   "outputs": [
    {
     "name": "stdout",
     "output_type": "stream",
     "text": [
      "<class 'pandas.core.frame.DataFrame'>\n",
      "RangeIndex: 100000 entries, 0 to 99999\n",
      "Columns: 212 entries, customer_ID to D_64_MISSING\n",
      "dtypes: bool(1), datetime64[ns](1), float16(9), float32(170), string(1), uint8(30)\n",
      "memory usage: 71.0 MB\n"
     ]
    }
   ],
   "source": [
    "sample.info()"
   ]
  },
  {
   "cell_type": "code",
   "execution_count": 46,
   "id": "1f5b492c-4ce6-4dc3-8331-8c412fe8145a",
   "metadata": {
    "tags": []
   },
   "outputs": [],
   "source": [
    "numeric_cols = sample.select_dtypes(include=['float16', 'float32']).columns"
   ]
  },
  {
   "cell_type": "code",
   "execution_count": 47,
   "id": "26640ff6-0565-478a-b490-b610f8b40d60",
   "metadata": {
    "tags": []
   },
   "outputs": [
    {
     "name": "stdout",
     "output_type": "stream",
     "text": [
      "D_116        2\n",
      "D_114        2\n",
      "D_120        2\n",
      "D_66         3\n",
      "D_126        3\n",
      "         ...  \n",
      "B_28     99922\n",
      "B_23     99926\n",
      "B_40     99927\n",
      "B_37     99928\n",
      "B_1      99929\n",
      "Length: 179, dtype: int64\n"
     ]
    }
   ],
   "source": [
    "cardinality = sample[numeric_cols].nunique(dropna=True).sort_values()\n",
    "print(cardinality)"
   ]
  },
  {
   "cell_type": "code",
   "execution_count": 48,
   "id": "705a61fa-c145-44b9-ac89-4a97cda848cb",
   "metadata": {
    "tags": []
   },
   "outputs": [
    {
     "name": "stdout",
     "output_type": "stream",
     "text": [
      "Low-cardinality numeric columns:\n",
      " D_116    2\n",
      "D_114    2\n",
      "D_120    2\n",
      "D_66     3\n",
      "D_126    3\n",
      "B_30     3\n",
      "D_117    7\n",
      "B_38     7\n",
      "D_68     7\n",
      "dtype: int64\n"
     ]
    }
   ],
   "source": [
    "low_card = cardinality[cardinality < 20]\n",
    "print(\"Low-cardinality numeric columns:\\n\", low_card)"
   ]
  },
  {
   "cell_type": "code",
   "execution_count": 10,
   "id": "662f0e88-5922-48a8-ac89-e37670cf0c0e",
   "metadata": {
    "tags": []
   },
   "outputs": [
    {
     "name": "stdout",
     "output_type": "stream",
     "text": [
      "Low-cardinality numeric columns:\n",
      "D_87     1\n",
      "D_120    2\n",
      "D_66     2\n",
      "D_116    2\n",
      "D_114    2\n",
      "D_126    3\n",
      "B_30     3\n",
      "D_117    7\n",
      "B_38     7\n",
      "D_68     7\n",
      "dtype: int64\n"
     ]
    }
   ],
   "source": [
    "import pandas as pd\n",
    "\n",
    "chunk_size = 100_000\n",
    "sample_size = 10_000\n",
    "unique_vals = {} \n",
    "\n",
    "for chunk in pd.read_csv(train_data_path, chunksize=chunk_size):\n",
    "    sample = chunk.sample(n=min(sample_size, len(chunk)), random_state=42)\n",
    "    numeric_cols = sample.select_dtypes(include=['float16', 'float32','float64']).columns\n",
    "    for col in numeric_cols:\n",
    "        if col not in unique_vals:\n",
    "            unique_vals[col] = set()\n",
    "        unique_vals[col].update(sample[col].dropna().unique())\n",
    "\n",
    "\n",
    "# Now compute actual cardinality\n",
    "cardinality = {col: len(vals) for col, vals in unique_vals.items()}\n",
    "cardinality_series = pd.Series(cardinality).sort_values()\n",
    "\n",
    "# Show low-cardinality numeric columns (e.g., < 20 unique values)\n",
    "low_card_cols = cardinality_series[cardinality_series < 20]\n",
    "print(\"Low-cardinality numeric columns:\")\n",
    "print(low_card_cols)"
   ]
  },
  {
   "cell_type": "code",
   "execution_count": null,
   "id": "9950fcd1-3e3c-4b90-9814-e9592f986106",
   "metadata": {},
   "outputs": [],
   "source": []
  }
 ],
 "metadata": {
  "kernelspec": {
   "display_name": "Python 3 (ipykernel)",
   "language": "python",
   "name": "python3"
  },
  "language_info": {
   "codemirror_mode": {
    "name": "ipython",
    "version": 3
   },
   "file_extension": ".py",
   "mimetype": "text/x-python",
   "name": "python",
   "nbconvert_exporter": "python",
   "pygments_lexer": "ipython3",
   "version": "3.11.7"
  }
 },
 "nbformat": 4,
 "nbformat_minor": 5
}
